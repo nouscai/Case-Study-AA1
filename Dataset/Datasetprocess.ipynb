{
 "cells": [
  {
   "cell_type": "code",
   "execution_count": 1,
   "id": "fc626fb8",
   "metadata": {},
   "outputs": [
    {
     "data": {
      "text/html": [
       "<div>\n",
       "<style scoped>\n",
       "    .dataframe tbody tr th:only-of-type {\n",
       "        vertical-align: middle;\n",
       "    }\n",
       "\n",
       "    .dataframe tbody tr th {\n",
       "        vertical-align: top;\n",
       "    }\n",
       "\n",
       "    .dataframe thead th {\n",
       "        text-align: right;\n",
       "    }\n",
       "</style>\n",
       "<table border=\"1\" class=\"dataframe\">\n",
       "  <thead>\n",
       "    <tr style=\"text-align: right;\">\n",
       "      <th></th>\n",
       "      <th>Transaction_Date</th>\n",
       "      <th>Transaction_Month</th>\n",
       "      <th>Transaction_Day</th>\n",
       "    </tr>\n",
       "  </thead>\n",
       "  <tbody>\n",
       "    <tr>\n",
       "      <th>0</th>\n",
       "      <td>2019-01-01</td>\n",
       "      <td>1</td>\n",
       "      <td>1</td>\n",
       "    </tr>\n",
       "    <tr>\n",
       "      <th>1</th>\n",
       "      <td>2019-01-01</td>\n",
       "      <td>1</td>\n",
       "      <td>1</td>\n",
       "    </tr>\n",
       "    <tr>\n",
       "      <th>2</th>\n",
       "      <td>2019-01-01</td>\n",
       "      <td>1</td>\n",
       "      <td>1</td>\n",
       "    </tr>\n",
       "    <tr>\n",
       "      <th>3</th>\n",
       "      <td>2019-01-01</td>\n",
       "      <td>1</td>\n",
       "      <td>1</td>\n",
       "    </tr>\n",
       "    <tr>\n",
       "      <th>4</th>\n",
       "      <td>2019-01-01</td>\n",
       "      <td>1</td>\n",
       "      <td>1</td>\n",
       "    </tr>\n",
       "  </tbody>\n",
       "</table>\n",
       "</div>"
      ],
      "text/plain": [
       "  Transaction_Date  Transaction_Month  Transaction_Day\n",
       "0       2019-01-01                  1                1\n",
       "1       2019-01-01                  1                1\n",
       "2       2019-01-01                  1                1\n",
       "3       2019-01-01                  1                1\n",
       "4       2019-01-01                  1                1"
      ]
     },
     "execution_count": 1,
     "metadata": {},
     "output_type": "execute_result"
    }
   ],
   "source": [
    "import pandas as pd\n",
    "\n",
    "data = pd.read_csv('datasetfinal.csv')\n",
    "\n",
    "data['Transaction_Date'] = pd.to_datetime(data['Transaction_Date'], errors='coerce')\n",
    "\n",
    "data['Transaction_Month'] = data['Transaction_Date'].dt.month\n",
    "data['Transaction_Day'] = data['Transaction_Date'].dt.day\n",
    "\n",
    "data[['Transaction_Date', 'Transaction_Month', 'Transaction_Day']].head()"
   ]
  },
  {
   "cell_type": "code",
   "execution_count": 2,
   "id": "d3da3591",
   "metadata": {},
   "outputs": [],
   "source": [
    "data.to_csv('datasetfinal_new.csv', index=False)"
   ]
  },
  {
   "cell_type": "code",
   "execution_count": 3,
   "id": "7b7cc739",
   "metadata": {},
   "outputs": [
    {
     "name": "stdout",
     "output_type": "stream",
     "text": [
      "   CustomerID  Gender Location  Tenure_Months  Transaction_ID  \\\n",
      "0       17850       0  Chicago             12           16679   \n",
      "1       17850       0  Chicago             12           16680   \n",
      "2       17850       0  Chicago             12           16681   \n",
      "3       17850       0  Chicago             12           16682   \n",
      "4       17850       0  Chicago             12           16682   \n",
      "5       17850       0  Chicago             12           16682   \n",
      "6       17850       0  Chicago             12           16682   \n",
      "7       17850       0  Chicago             12           16682   \n",
      "8       17850       0  Chicago             12           16682   \n",
      "9       17850       0  Chicago             12           16696   \n",
      "\n",
      "  Transaction_Date     Product_SKU Product_Category  Quantity  Avg_Price  \\\n",
      "0       2019-01-01  GGOENEBJ079499         Nest-USA         1     153.71   \n",
      "1       2019-01-01  GGOENEBJ079499         Nest-USA         1     153.71   \n",
      "2       2019-01-01  GGOEGFKQ020399           Office         1       2.05   \n",
      "3       2019-01-01  GGOEGAAB010516          Apparel         5      17.53   \n",
      "4       2019-01-01  GGOEGBJL013999             Bags         1      16.50   \n",
      "5       2019-01-01  GGOEGBMJ013399             Bags        15       5.15   \n",
      "6       2019-01-01  GGOEGDHC018299        Drinkware        15       3.08   \n",
      "7       2019-01-01  GGOEGDHG014499        Drinkware        15      10.31   \n",
      "8       2019-01-01  GGOEGDWC020199        Drinkware         5       9.27   \n",
      "9       2019-01-01  GGOEGPJR018999        Lifestyle         1       1.24   \n",
      "\n",
      "   Delivery_Charges  Coupon_Status  Transaction_Month  Transaction_Day  \n",
      "0               6.5              1                  1                1  \n",
      "1               6.5              1                  1                1  \n",
      "2               6.5              1                  1                1  \n",
      "3               6.5              0                  1                1  \n",
      "4               6.5              1                  1                1  \n",
      "5               6.5              1                  1                1  \n",
      "6               6.5              0                  1                1  \n",
      "7               6.5              0                  1                1  \n",
      "8               6.5              1                  1                1  \n",
      "9               6.5              1                  1                1  \n"
     ]
    }
   ],
   "source": [
    "print(data.head(10))"
   ]
  },
  {
   "cell_type": "code",
   "execution_count": 4,
   "id": "6364a4ca",
   "metadata": {},
   "outputs": [],
   "source": [
    "data['Combined_Key'] = data['Transaction_ID'].astype(str) + \"-\" + data['Product_SKU']"
   ]
  },
  {
   "cell_type": "code",
   "execution_count": 5,
   "id": "9a02fc4b",
   "metadata": {},
   "outputs": [],
   "source": [
    "data.to_csv('datasetfinal_new2.csv', index=False)"
   ]
  },
  {
   "cell_type": "code",
   "execution_count": 6,
   "id": "c4650d09",
   "metadata": {},
   "outputs": [],
   "source": [
    "data = data.drop(['Transaction_ID', 'Product_SKU'], axis=1)"
   ]
  },
  {
   "cell_type": "code",
   "execution_count": 7,
   "id": "f5d12d5b",
   "metadata": {},
   "outputs": [
    {
     "name": "stdout",
     "output_type": "stream",
     "text": [
      "   CustomerID  Gender Location  Tenure_Months Transaction_Date  \\\n",
      "0       17850       0  Chicago             12       2019-01-01   \n",
      "1       17850       0  Chicago             12       2019-01-01   \n",
      "2       17850       0  Chicago             12       2019-01-01   \n",
      "3       17850       0  Chicago             12       2019-01-01   \n",
      "4       17850       0  Chicago             12       2019-01-01   \n",
      "5       17850       0  Chicago             12       2019-01-01   \n",
      "6       17850       0  Chicago             12       2019-01-01   \n",
      "7       17850       0  Chicago             12       2019-01-01   \n",
      "8       17850       0  Chicago             12       2019-01-01   \n",
      "9       17850       0  Chicago             12       2019-01-01   \n",
      "\n",
      "  Product_Category  Quantity  Avg_Price  Delivery_Charges  Coupon_Status  \\\n",
      "0         Nest-USA         1     153.71               6.5              1   \n",
      "1         Nest-USA         1     153.71               6.5              1   \n",
      "2           Office         1       2.05               6.5              1   \n",
      "3          Apparel         5      17.53               6.5              0   \n",
      "4             Bags         1      16.50               6.5              1   \n",
      "5             Bags        15       5.15               6.5              1   \n",
      "6        Drinkware        15       3.08               6.5              0   \n",
      "7        Drinkware        15      10.31               6.5              0   \n",
      "8        Drinkware         5       9.27               6.5              1   \n",
      "9        Lifestyle         1       1.24               6.5              1   \n",
      "\n",
      "   Transaction_Month  Transaction_Day          Combined_Key  \n",
      "0                  1                1  16679-GGOENEBJ079499  \n",
      "1                  1                1  16680-GGOENEBJ079499  \n",
      "2                  1                1  16681-GGOEGFKQ020399  \n",
      "3                  1                1  16682-GGOEGAAB010516  \n",
      "4                  1                1  16682-GGOEGBJL013999  \n",
      "5                  1                1  16682-GGOEGBMJ013399  \n",
      "6                  1                1  16682-GGOEGDHC018299  \n",
      "7                  1                1  16682-GGOEGDHG014499  \n",
      "8                  1                1  16682-GGOEGDWC020199  \n",
      "9                  1                1  16696-GGOEGPJR018999  \n"
     ]
    }
   ],
   "source": [
    "print(data.head(10))"
   ]
  },
  {
   "cell_type": "code",
   "execution_count": 8,
   "id": "1f2d23bc",
   "metadata": {},
   "outputs": [],
   "source": [
    "data.to_csv('datasetfinal_new3.csv', index=False)"
   ]
  },
  {
   "cell_type": "code",
   "execution_count": null,
   "id": "b56b5ef6",
   "metadata": {},
   "outputs": [],
   "source": []
  }
 ],
 "metadata": {
  "kernelspec": {
   "display_name": "Python 3 (ipykernel)",
   "language": "python",
   "name": "python3"
  },
  "language_info": {
   "codemirror_mode": {
    "name": "ipython",
    "version": 3
   },
   "file_extension": ".py",
   "mimetype": "text/x-python",
   "name": "python",
   "nbconvert_exporter": "python",
   "pygments_lexer": "ipython3",
   "version": "3.11.5"
  }
 },
 "nbformat": 4,
 "nbformat_minor": 5
}
